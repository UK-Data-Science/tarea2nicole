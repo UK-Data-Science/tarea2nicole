{
 "cells": [
  {
   "cell_type": "code",
   "execution_count": 3,
   "id": "a5d3c136-89c0-491e-8ee1-8420de7c0ded",
   "metadata": {},
   "outputs": [],
   "source": [
    "import pandas as pd\n",
    "link=\"https://github.com/UK-Data-Science/tarea2nicole/raw/main/dataUN%20-%20HDR21-22_Statistical_Annex_HDI_Table.csv\""
   ]
  },
  {
   "cell_type": "code",
   "execution_count": null,
   "id": "066e52c9-7316-437f-9017-27f733782cfa",
   "metadata": {},
   "outputs": [],
   "source": [
    "df = pd.read_csv(link)"
   ]
  },
  {
   "cell_type": "code",
   "execution_count": 5,
   "id": "9febd3d8-29fd-44b7-99e3-1fe1c70dcd34",
   "metadata": {},
   "outputs": [],
   "source": [
    "#eliminar filas de puros valores NaN\n",
    "df=df.dropna(how='all')\n",
    "# eliminar aquellas columnas que tienen mayoria de valores NaN\n",
    "columns_drop=data.columns[df.isna().sum() > 0.5 * len(df)]\n",
    "df = df.drop(columns_drop, axis=1)\n",
    "# renombrar las columnas juntando las celdas pero con un espacio\n",
    "new_names = df.iloc[1:4].fillna('').agg(' '.join).tolist()\n",
    "df.columns = new_names\n",
    "# y eliminar las filas donde estaban los nombres de columna\n",
    "df = df.drop(index=df.index[:4])\n",
    "# modificar los nombres de las columnas sin espacios y carácteres diferentes a alfanuméricos\n",
    "df.columns=df.columns.str.strip().str.replace(pat=r'\\s+', repl='_', regex=True).str.replace(pat=r'\\W', repl='', regex=True)\n",
    "df.columns.to_list()"
   ]
  },
  {
   "cell_type": "code",
   "execution_count": null,
   "id": "39e5c7c9-7fcf-410f-b652-cbaa37fef1b0",
   "metadata": {},
   "outputs": [],
   "source": [
    "# eliminando subtitulos \n",
    "subtitulos_indices = df[df['Country'].str.isupper()].index\n",
    "df = df.drop(subtitulos_indices)\n",
    "df.info()"
   ]
  },
  {
   "cell_type": "code",
   "execution_count": null,
   "id": "1cdea6e6-6326-4c9d-a38e-feec78b6576a",
   "metadata": {},
   "outputs": [],
   "source": [
    "# identificando la longitud de la data util -> 7 columnas son de longitud 210 \n",
    "df.notnull().sum().value_counts()"
   ]
  },
  {
   "cell_type": "code",
   "execution_count": null,
   "id": "4a386165-478e-40c4-ac3c-9befd599167f",
   "metadata": {},
   "outputs": [],
   "source": [
    "#eliminar las filas sobrantes despues del fin de la tabla \n",
    "frecuencia_not_null = df.notnull().sum().value_counts()\n",
    "indice_max = frecuencia_not_null.idxmax()\n",
    "df = df.loc[:indice_max]\n",
    "# verificar valores nan : queda al menos 1 en la mayoria\n",
    "df.isna().sum()"
   ]
  },
  {
   "cell_type": "code",
   "execution_count": null,
   "id": "88f40666-f9be-4a0c-84cc-a22240d3a9c6",
   "metadata": {},
   "outputs": [],
   "source": [
    "# inspeccionando los valores NaN : \n",
    "# se identifica el primer index nan mas repetido en las columnas\n",
    "indice_max_actualizado=df.isna().idxmax().value_counts().idxmax()\n",
    "# nos quedamos con las filas hasta antes de ese nan\n",
    "df = df.loc[:indice_max_actualizado-1]\n",
    "df"
   ]
  },
  {
   "cell_type": "code",
   "execution_count": null,
   "id": "6f374188-7bf9-458b-953c-ea04782bba70",
   "metadata": {},
   "outputs": [],
   "source": [
    "df.dtypes "
   ]
  },
  {
   "cell_type": "code",
   "execution_count": null,
   "id": "3b30fce7-fe38-4a6c-abc9-c5023173f64a",
   "metadata": {},
   "outputs": [],
   "source": [
    "# aplicando strip a los strings del dataframe: \n",
    "df = df.applymap(lambda x: x.strip() if isinstance(x, str) else x)\n",
    "# identificando las columnas numericas\n",
    "numericCols = df.columns[df.columns.str.contains(pat=r'\\d', regex=True)].tolist()\n",
    "\n",
    "# hallando la presencia de simbolos \n",
    "unique_symbols = set()\n",
    "\n",
    "for col in numericCols:\n",
    "    symbols = df[col].astype(str).str.extractall(pat=r'([^0-9.])')[0].tolist()\n",
    "    unique_symbols.update(symbols)\n",
    "\n",
    "unique_symbols"
   ]
  },
  {
   "cell_type": "code",
   "execution_count": null,
   "id": "993cbbb3-c815-47df-ad2c-43a05af50691",
   "metadata": {},
   "outputs": [],
   "source": [
    "# reemplazando comas\n",
    "for col in numericCols:\n",
    "    df[col] = df[col].str.replace(pat=r',', repl='', regex=True)"
   ]
  },
  {
   "cell_type": "code",
   "execution_count": null,
   "id": "3e611e43-5817-4290-bc94-626fe5b2ae29",
   "metadata": {},
   "outputs": [],
   "source": [
    "# Formateo Strings:\n",
    "abcCol=df.columns[df.columns.str.contains(pat=r'^[a-zA-Z]+$', regex=True)].to_list()\n",
    "abcCol"
   ]
  },
  {
   "cell_type": "code",
   "execution_count": null,
   "id": "c4458bef-a583-4515-a107-e6a47c9ef480",
   "metadata": {},
   "outputs": [],
   "source": [
    "df[df.Country.str.contains(r\"\\w*[\\u00C0-\\u01DA']\\w*\")]"
   ]
  },
  {
   "cell_type": "code",
   "execution_count": null,
   "id": "b6342d0f-3260-4022-b195-231b44a62b2b",
   "metadata": {},
   "outputs": [],
   "source": [
    "pip install unidecode"
   ]
  },
  {
   "cell_type": "code",
   "execution_count": null,
   "id": "634dfec3-c0c6-4713-a11a-1020f4c09483",
   "metadata": {},
   "outputs": [],
   "source": [
    "from unidecode import unidecode\n",
    "\n",
    "df['Country']=df.Country.apply(unidecode)"
   ]
  },
  {
   "cell_type": "code",
   "execution_count": null,
   "id": "279304cc-4ffc-4d6b-853b-9e7df58d7657",
   "metadata": {},
   "outputs": [],
   "source": [
    "# Formateo Numeros:\n",
    "df.info() # no hay numeros reconocidos "
   ]
  },
  {
   "cell_type": "code",
   "execution_count": null,
   "id": "21ef879a-95e7-4296-afa0-b0513cc05509",
   "metadata": {},
   "outputs": [],
   "source": [
    "for col in numericCols:\n",
    "    df[col] = pd.to_numeric(df[col], errors='coerce')"
   ]
  },
  {
   "cell_type": "code",
   "execution_count": null,
   "id": "63a800a6-2197-469c-8011-63b0bd065fe0",
   "metadata": {},
   "outputs": [],
   "source": [
    "df.dtypes"
   ]
  }
 ],
 "metadata": {
  "kernelspec": {
   "display_name": "Python 3 (ipykernel)",
   "language": "python",
   "name": "python3"
  },
  "language_info": {
   "codemirror_mode": {
    "name": "ipython",
    "version": 3
   },
   "file_extension": ".py",
   "mimetype": "text/x-python",
   "name": "python",
   "nbconvert_exporter": "python",
   "pygments_lexer": "ipython3",
   "version": "3.11.8"
  }
 },
 "nbformat": 4,
 "nbformat_minor": 5
}
