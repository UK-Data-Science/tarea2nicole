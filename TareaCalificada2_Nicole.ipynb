{
 "cells": [
  {
   "cell_type": "code",
   "execution_count": 33,
   "id": "a5d3c136-89c0-491e-8ee1-8420de7c0ded",
   "metadata": {},
   "outputs": [],
   "source": [
    "import pandas as pd\n",
    "link=\"https://github.com/UK-Data-Science/tarea2nicole/raw/main/dataUN%20-%20HDR21-22_Statistical_Annex_HDI_Table.csv\""
   ]
  },
  {
   "cell_type": "code",
   "execution_count": 34,
   "id": "066e52c9-7316-437f-9017-27f733782cfa",
   "metadata": {},
   "outputs": [],
   "source": [
    "df = pd.read_csv(link)"
   ]
  },
  {
   "cell_type": "code",
   "execution_count": 35,
   "id": "9febd3d8-29fd-44b7-99e3-1fe1c70dcd34",
   "metadata": {},
   "outputs": [
    {
     "data": {
      "text/plain": [
       "['HDI_rank',\n",
       " 'Country',\n",
       " 'Human_Development_Index_HDI_Value_2021',\n",
       " 'Life_expectancy_at_birth_years_2021',\n",
       " 'Expected_years_of_schooling_years_2021',\n",
       " 'Mean_years_of_schooling_years_2021',\n",
       " 'Gross_national_income_GNI_per_capita_2017_PPP__2021',\n",
       " 'GNI_per_capita_rank_minus_HDI_rank_2021',\n",
       " 'HDI_rank_2020']"
      ]
     },
     "execution_count": 35,
     "metadata": {},
     "output_type": "execute_result"
    }
   ],
   "source": [
    "#eliminar filas de puros valores NaN\n",
    "df=df.dropna(how='all')\n",
    "# eliminar aquellas columnas que tienen mayoria de valores NaN\n",
    "columns_drop = df.columns[df.isna().sum() > 0.5 * len(df)]\n",
    "df = df.drop(columns_drop, axis=1)\n",
    "# renombrar las columnas juntando las celdas pero con un espacio\n",
    "new_names = df.iloc[1:4].fillna('').agg(' '.join).tolist()\n",
    "df.columns = new_names\n",
    "# y eliminar las filas donde estaban los nombres de columna\n",
    "df = df.drop(index=df.index[:4])\n",
    "# modificar los nombres de las columnas sin espacios y carácteres diferentes a alfanuméricos\n",
    "df.columns=df.columns.str.strip().str.replace(pat=r'\\s+', repl='_', regex=True).str.replace(pat=r'\\W', repl='', regex=True)\n",
    "df.columns.to_list()"
   ]
  },
  {
   "cell_type": "code",
   "execution_count": 36,
   "id": "39e5c7c9-7fcf-410f-b652-cbaa37fef1b0",
   "metadata": {},
   "outputs": [
    {
     "name": "stdout",
     "output_type": "stream",
     "text": [
      "<class 'pandas.core.frame.DataFrame'>\n",
      "Index: 255 entries, 7 to 275\n",
      "Data columns (total 9 columns):\n",
      " #   Column                                               Non-Null Count  Dtype \n",
      "---  ------                                               --------------  ----- \n",
      " 0   HDI_rank                                             191 non-null    object\n",
      " 1   Country                                              255 non-null    object\n",
      " 2   Human_Development_Index_HDI_Value_2021               210 non-null    object\n",
      " 3   Life_expectancy_at_birth_years_2021                  210 non-null    object\n",
      " 4   Expected_years_of_schooling_years_2021               210 non-null    object\n",
      " 5   Mean_years_of_schooling_years_2021                   210 non-null    object\n",
      " 6   Gross_national_income_GNI_per_capita_2017_PPP__2021  210 non-null    object\n",
      " 7   GNI_per_capita_rank_minus_HDI_rank_2021              210 non-null    object\n",
      " 8   HDI_rank_2020                                        210 non-null    object\n",
      "dtypes: object(9)\n",
      "memory usage: 19.9+ KB\n"
     ]
    }
   ],
   "source": [
    "# eliminando subtitulos \n",
    "subtitulos_indices = df[df['Country'].str.isupper()].index\n",
    "df = df.drop(subtitulos_indices)\n",
    "df.info()"
   ]
  },
  {
   "cell_type": "code",
   "execution_count": 37,
   "id": "1cdea6e6-6326-4c9d-a38e-feec78b6576a",
   "metadata": {},
   "outputs": [
    {
     "data": {
      "text/plain": [
       "210    7\n",
       "191    1\n",
       "255    1\n",
       "Name: count, dtype: int64"
      ]
     },
     "execution_count": 37,
     "metadata": {},
     "output_type": "execute_result"
    }
   ],
   "source": [
    "# identificando la longitud de la data util -> 7 columnas son de longitud 210 \n",
    "df.notnull().sum().value_counts()"
   ]
  },
  {
   "cell_type": "code",
   "execution_count": 38,
   "id": "4a386165-478e-40c4-ac3c-9befd599167f",
   "metadata": {},
   "outputs": [
    {
     "data": {
      "text/plain": [
       "HDI_rank                                               8\n",
       "Country                                                0\n",
       "Human_Development_Index_HDI_Value_2021                 1\n",
       "Life_expectancy_at_birth_years_2021                    1\n",
       "Expected_years_of_schooling_years_2021                 1\n",
       "Mean_years_of_schooling_years_2021                     1\n",
       "Gross_national_income_GNI_per_capita_2017_PPP__2021    1\n",
       "GNI_per_capita_rank_minus_HDI_rank_2021                1\n",
       "HDI_rank_2020                                          1\n",
       "dtype: int64"
      ]
     },
     "execution_count": 38,
     "metadata": {},
     "output_type": "execute_result"
    }
   ],
   "source": [
    "#eliminar las filas sobrantes despues del fin de la tabla \n",
    "frecuencia_not_null = df.notnull().sum().value_counts()\n",
    "indice_max = frecuencia_not_null.idxmax()\n",
    "df = df.loc[:indice_max]\n",
    "# verificar valores nan : queda al menos 1 en la mayoria\n",
    "df.isna().sum()"
   ]
  },
  {
   "cell_type": "code",
   "execution_count": 39,
   "id": "88f40666-f9be-4a0c-84cc-a22240d3a9c6",
   "metadata": {},
   "outputs": [
    {
     "data": {
      "text/html": [
       "<div>\n",
       "<style scoped>\n",
       "    .dataframe tbody tr th:only-of-type {\n",
       "        vertical-align: middle;\n",
       "    }\n",
       "\n",
       "    .dataframe tbody tr th {\n",
       "        vertical-align: top;\n",
       "    }\n",
       "\n",
       "    .dataframe thead th {\n",
       "        text-align: right;\n",
       "    }\n",
       "</style>\n",
       "<table border=\"1\" class=\"dataframe\">\n",
       "  <thead>\n",
       "    <tr style=\"text-align: right;\">\n",
       "      <th></th>\n",
       "      <th>HDI_rank</th>\n",
       "      <th>Country</th>\n",
       "      <th>Human_Development_Index_HDI_Value_2021</th>\n",
       "      <th>Life_expectancy_at_birth_years_2021</th>\n",
       "      <th>Expected_years_of_schooling_years_2021</th>\n",
       "      <th>Mean_years_of_schooling_years_2021</th>\n",
       "      <th>Gross_national_income_GNI_per_capita_2017_PPP__2021</th>\n",
       "      <th>GNI_per_capita_rank_minus_HDI_rank_2021</th>\n",
       "      <th>HDI_rank_2020</th>\n",
       "    </tr>\n",
       "  </thead>\n",
       "  <tbody>\n",
       "    <tr>\n",
       "      <th>7</th>\n",
       "      <td>1</td>\n",
       "      <td>Switzerland</td>\n",
       "      <td>962</td>\n",
       "      <td>84.0</td>\n",
       "      <td>16.5</td>\n",
       "      <td>13.9</td>\n",
       "      <td>66,933</td>\n",
       "      <td>5</td>\n",
       "      <td>3</td>\n",
       "    </tr>\n",
       "    <tr>\n",
       "      <th>8</th>\n",
       "      <td>2</td>\n",
       "      <td>Norway</td>\n",
       "      <td>961</td>\n",
       "      <td>83.2</td>\n",
       "      <td>18.2</td>\n",
       "      <td>13.0</td>\n",
       "      <td>64,660</td>\n",
       "      <td>6</td>\n",
       "      <td>1</td>\n",
       "    </tr>\n",
       "    <tr>\n",
       "      <th>9</th>\n",
       "      <td>3</td>\n",
       "      <td>Iceland</td>\n",
       "      <td>959</td>\n",
       "      <td>82.7</td>\n",
       "      <td>19.2</td>\n",
       "      <td>13.8</td>\n",
       "      <td>55,782</td>\n",
       "      <td>11</td>\n",
       "      <td>2</td>\n",
       "    </tr>\n",
       "    <tr>\n",
       "      <th>10</th>\n",
       "      <td>4</td>\n",
       "      <td>Hong Kong, China (SAR)</td>\n",
       "      <td>952</td>\n",
       "      <td>85.5</td>\n",
       "      <td>17.3</td>\n",
       "      <td>12.2</td>\n",
       "      <td>62,607</td>\n",
       "      <td>6</td>\n",
       "      <td>4</td>\n",
       "    </tr>\n",
       "    <tr>\n",
       "      <th>11</th>\n",
       "      <td>5</td>\n",
       "      <td>Australia</td>\n",
       "      <td>951</td>\n",
       "      <td>84.5</td>\n",
       "      <td>21.1</td>\n",
       "      <td>12.7</td>\n",
       "      <td>49,238</td>\n",
       "      <td>18</td>\n",
       "      <td>5</td>\n",
       "    </tr>\n",
       "    <tr>\n",
       "      <th>...</th>\n",
       "      <td>...</td>\n",
       "      <td>...</td>\n",
       "      <td>...</td>\n",
       "      <td>...</td>\n",
       "      <td>...</td>\n",
       "      <td>...</td>\n",
       "      <td>...</td>\n",
       "      <td>...</td>\n",
       "      <td>...</td>\n",
       "    </tr>\n",
       "    <tr>\n",
       "      <th>200</th>\n",
       "      <td>191</td>\n",
       "      <td>South Sudan</td>\n",
       "      <td>385</td>\n",
       "      <td>55.0</td>\n",
       "      <td>5.5</td>\n",
       "      <td>5.7</td>\n",
       "      <td>768</td>\n",
       "      <td>-1</td>\n",
       "      <td>191</td>\n",
       "    </tr>\n",
       "    <tr>\n",
       "      <th>202</th>\n",
       "      <td>NaN</td>\n",
       "      <td>Korea (Democratic People's Rep. of)</td>\n",
       "      <td>..</td>\n",
       "      <td>73.3</td>\n",
       "      <td>10.8</td>\n",
       "      <td>..</td>\n",
       "      <td>..</td>\n",
       "      <td>..</td>\n",
       "      <td>..</td>\n",
       "    </tr>\n",
       "    <tr>\n",
       "      <th>203</th>\n",
       "      <td>NaN</td>\n",
       "      <td>Monaco</td>\n",
       "      <td>..</td>\n",
       "      <td>85.9</td>\n",
       "      <td>..</td>\n",
       "      <td>..</td>\n",
       "      <td>..</td>\n",
       "      <td>..</td>\n",
       "      <td>..</td>\n",
       "    </tr>\n",
       "    <tr>\n",
       "      <th>204</th>\n",
       "      <td>NaN</td>\n",
       "      <td>Nauru</td>\n",
       "      <td>..</td>\n",
       "      <td>63.6</td>\n",
       "      <td>11.7</td>\n",
       "      <td>..</td>\n",
       "      <td>17,73</td>\n",
       "      <td>..</td>\n",
       "      <td>..</td>\n",
       "    </tr>\n",
       "    <tr>\n",
       "      <th>205</th>\n",
       "      <td>NaN</td>\n",
       "      <td>Somalia</td>\n",
       "      <td>..</td>\n",
       "      <td>55.3</td>\n",
       "      <td>..</td>\n",
       "      <td>..</td>\n",
       "      <td>1,018</td>\n",
       "      <td>..</td>\n",
       "      <td>..</td>\n",
       "    </tr>\n",
       "  </tbody>\n",
       "</table>\n",
       "<p>195 rows × 9 columns</p>\n",
       "</div>"
      ],
      "text/plain": [
       "    HDI_rank                              Country  \\\n",
       "7          1                          Switzerland   \n",
       "8          2                               Norway   \n",
       "9          3                              Iceland   \n",
       "10         4               Hong Kong, China (SAR)   \n",
       "11         5                            Australia   \n",
       "..       ...                                  ...   \n",
       "200      191                          South Sudan   \n",
       "202      NaN  Korea (Democratic People's Rep. of)   \n",
       "203      NaN                               Monaco   \n",
       "204      NaN                                Nauru   \n",
       "205      NaN                              Somalia   \n",
       "\n",
       "    Human_Development_Index_HDI_Value_2021  \\\n",
       "7                                      962   \n",
       "8                                      961   \n",
       "9                                      959   \n",
       "10                                     952   \n",
       "11                                     951   \n",
       "..                                     ...   \n",
       "200                                    385   \n",
       "202                                     ..   \n",
       "203                                     ..   \n",
       "204                                     ..   \n",
       "205                                     ..   \n",
       "\n",
       "    Life_expectancy_at_birth_years_2021  \\\n",
       "7                                  84.0   \n",
       "8                                  83.2   \n",
       "9                                  82.7   \n",
       "10                                 85.5   \n",
       "11                                 84.5   \n",
       "..                                  ...   \n",
       "200                                55.0   \n",
       "202                                73.3   \n",
       "203                                85.9   \n",
       "204                                63.6   \n",
       "205                                55.3   \n",
       "\n",
       "    Expected_years_of_schooling_years_2021 Mean_years_of_schooling_years_2021  \\\n",
       "7                                     16.5                               13.9   \n",
       "8                                     18.2                               13.0   \n",
       "9                                     19.2                               13.8   \n",
       "10                                    17.3                               12.2   \n",
       "11                                    21.1                               12.7   \n",
       "..                                     ...                                ...   \n",
       "200                                    5.5                                5.7   \n",
       "202                                   10.8                                 ..   \n",
       "203                                     ..                                 ..   \n",
       "204                                   11.7                                 ..   \n",
       "205                                     ..                                 ..   \n",
       "\n",
       "    Gross_national_income_GNI_per_capita_2017_PPP__2021  \\\n",
       "7                                               66,933    \n",
       "8                                               64,660    \n",
       "9                                               55,782    \n",
       "10                                              62,607    \n",
       "11                                              49,238    \n",
       "..                                                 ...    \n",
       "200                                                768    \n",
       "202                                                 ..    \n",
       "203                                                 ..    \n",
       "204                                              17,73    \n",
       "205                                              1,018    \n",
       "\n",
       "    GNI_per_capita_rank_minus_HDI_rank_2021 HDI_rank_2020  \n",
       "7                                         5             3  \n",
       "8                                         6             1  \n",
       "9                                        11             2  \n",
       "10                                        6             4  \n",
       "11                                       18             5  \n",
       "..                                      ...           ...  \n",
       "200                                      -1           191  \n",
       "202                                      ..            ..  \n",
       "203                                      ..            ..  \n",
       "204                                      ..            ..  \n",
       "205                                      ..            ..  \n",
       "\n",
       "[195 rows x 9 columns]"
      ]
     },
     "execution_count": 39,
     "metadata": {},
     "output_type": "execute_result"
    }
   ],
   "source": [
    "# inspeccionando los valores NaN : \n",
    "# se identifica el primer index nan mas repetido en las columnas\n",
    "indice_max_actualizado=df.isna().idxmax().value_counts().idxmax()\n",
    "# nos quedamos con las filas hasta antes de ese nan\n",
    "df = df.loc[:indice_max_actualizado-1]\n",
    "df"
   ]
  },
  {
   "cell_type": "code",
   "execution_count": 40,
   "id": "6f374188-7bf9-458b-953c-ea04782bba70",
   "metadata": {},
   "outputs": [
    {
     "data": {
      "text/plain": [
       "HDI_rank                                               object\n",
       "Country                                                object\n",
       "Human_Development_Index_HDI_Value_2021                 object\n",
       "Life_expectancy_at_birth_years_2021                    object\n",
       "Expected_years_of_schooling_years_2021                 object\n",
       "Mean_years_of_schooling_years_2021                     object\n",
       "Gross_national_income_GNI_per_capita_2017_PPP__2021    object\n",
       "GNI_per_capita_rank_minus_HDI_rank_2021                object\n",
       "HDI_rank_2020                                          object\n",
       "dtype: object"
      ]
     },
     "execution_count": 40,
     "metadata": {},
     "output_type": "execute_result"
    }
   ],
   "source": [
    "df.dtypes "
   ]
  },
  {
   "cell_type": "code",
   "execution_count": 41,
   "id": "3b30fce7-fe38-4a6c-abc9-c5023173f64a",
   "metadata": {},
   "outputs": [
    {
     "data": {
      "text/plain": [
       "{',', '-'}"
      ]
     },
     "execution_count": 41,
     "metadata": {},
     "output_type": "execute_result"
    }
   ],
   "source": [
    "# aplicando strip a los strings del dataframe: \n",
    "df = df.map(lambda x: x.strip() if isinstance(x, str) else x)\n",
    "# identificando las columnas numericas\n",
    "numericCols = df.columns[df.columns.str.contains(pat=r'\\d', regex=True)].tolist()\n",
    "\n",
    "# hallando la presencia de simbolos \n",
    "unique_symbols = set()\n",
    "\n",
    "for col in numericCols:\n",
    "    symbols = df[col].astype(str).str.extractall(pat=r'([^0-9.])')[0].tolist()\n",
    "    unique_symbols.update(symbols)\n",
    "\n",
    "unique_symbols"
   ]
  },
  {
   "cell_type": "code",
   "execution_count": 42,
   "id": "993cbbb3-c815-47df-ad2c-43a05af50691",
   "metadata": {},
   "outputs": [],
   "source": [
    "# reemplazando comas\n",
    "for col in numericCols:\n",
    "    df[col] = df[col].str.replace(pat=r',', repl='', regex=True)"
   ]
  },
  {
   "cell_type": "code",
   "execution_count": 43,
   "id": "3e611e43-5817-4290-bc94-626fe5b2ae29",
   "metadata": {},
   "outputs": [
    {
     "data": {
      "text/plain": [
       "['Country']"
      ]
     },
     "execution_count": 43,
     "metadata": {},
     "output_type": "execute_result"
    }
   ],
   "source": [
    "# Formateo Strings:\n",
    "abcCol=df.columns[df.columns.str.contains(pat=r'^[a-zA-Z]+$', regex=True)].to_list()\n",
    "abcCol"
   ]
  },
  {
   "cell_type": "code",
   "execution_count": 44,
   "id": "c4458bef-a583-4515-a107-e6a47c9ef480",
   "metadata": {},
   "outputs": [
    {
     "data": {
      "text/html": [
       "<div>\n",
       "<style scoped>\n",
       "    .dataframe tbody tr th:only-of-type {\n",
       "        vertical-align: middle;\n",
       "    }\n",
       "\n",
       "    .dataframe tbody tr th {\n",
       "        vertical-align: top;\n",
       "    }\n",
       "\n",
       "    .dataframe thead th {\n",
       "        text-align: right;\n",
       "    }\n",
       "</style>\n",
       "<table border=\"1\" class=\"dataframe\">\n",
       "  <thead>\n",
       "    <tr style=\"text-align: right;\">\n",
       "      <th></th>\n",
       "      <th>HDI_rank</th>\n",
       "      <th>Country</th>\n",
       "      <th>Human_Development_Index_HDI_Value_2021</th>\n",
       "      <th>Life_expectancy_at_birth_years_2021</th>\n",
       "      <th>Expected_years_of_schooling_years_2021</th>\n",
       "      <th>Mean_years_of_schooling_years_2021</th>\n",
       "      <th>Gross_national_income_GNI_per_capita_2017_PPP__2021</th>\n",
       "      <th>GNI_per_capita_rank_minus_HDI_rank_2021</th>\n",
       "      <th>HDI_rank_2020</th>\n",
       "    </tr>\n",
       "  </thead>\n",
       "  <tbody>\n",
       "    <tr>\n",
       "      <th>54</th>\n",
       "      <td>48</td>\n",
       "      <td>Türkiye</td>\n",
       "      <td>838</td>\n",
       "      <td>76.0</td>\n",
       "      <td>18.3</td>\n",
       "      <td>8.6</td>\n",
       "      <td>31033</td>\n",
       "      <td>-3</td>\n",
       "      <td>48</td>\n",
       "    </tr>\n",
       "    <tr>\n",
       "      <th>148</th>\n",
       "      <td>140</td>\n",
       "      <td>Lao People's Democratic Republic</td>\n",
       "      <td>607</td>\n",
       "      <td>68.1</td>\n",
       "      <td>10.1</td>\n",
       "      <td>5.4</td>\n",
       "      <td>7700</td>\n",
       "      <td>-18</td>\n",
       "      <td>142</td>\n",
       "    </tr>\n",
       "    <tr>\n",
       "      <th>167</th>\n",
       "      <td>159</td>\n",
       "      <td>Côte d'Ivoire</td>\n",
       "      <td>550</td>\n",
       "      <td>58.6</td>\n",
       "      <td>10.7</td>\n",
       "      <td>5.2</td>\n",
       "      <td>5217</td>\n",
       "      <td>-22</td>\n",
       "      <td>159</td>\n",
       "    </tr>\n",
       "    <tr>\n",
       "      <th>202</th>\n",
       "      <td>NaN</td>\n",
       "      <td>Korea (Democratic People's Rep. of)</td>\n",
       "      <td>..</td>\n",
       "      <td>73.3</td>\n",
       "      <td>10.8</td>\n",
       "      <td>..</td>\n",
       "      <td>..</td>\n",
       "      <td>..</td>\n",
       "      <td>..</td>\n",
       "    </tr>\n",
       "  </tbody>\n",
       "</table>\n",
       "</div>"
      ],
      "text/plain": [
       "    HDI_rank                              Country  \\\n",
       "54        48                              Türkiye   \n",
       "148      140     Lao People's Democratic Republic   \n",
       "167      159                        Côte d'Ivoire   \n",
       "202      NaN  Korea (Democratic People's Rep. of)   \n",
       "\n",
       "    Human_Development_Index_HDI_Value_2021  \\\n",
       "54                                     838   \n",
       "148                                    607   \n",
       "167                                    550   \n",
       "202                                     ..   \n",
       "\n",
       "    Life_expectancy_at_birth_years_2021  \\\n",
       "54                                 76.0   \n",
       "148                                68.1   \n",
       "167                                58.6   \n",
       "202                                73.3   \n",
       "\n",
       "    Expected_years_of_schooling_years_2021 Mean_years_of_schooling_years_2021  \\\n",
       "54                                    18.3                                8.6   \n",
       "148                                   10.1                                5.4   \n",
       "167                                   10.7                                5.2   \n",
       "202                                   10.8                                 ..   \n",
       "\n",
       "    Gross_national_income_GNI_per_capita_2017_PPP__2021  \\\n",
       "54                                               31033    \n",
       "148                                               7700    \n",
       "167                                               5217    \n",
       "202                                                 ..    \n",
       "\n",
       "    GNI_per_capita_rank_minus_HDI_rank_2021 HDI_rank_2020  \n",
       "54                                       -3            48  \n",
       "148                                     -18           142  \n",
       "167                                     -22           159  \n",
       "202                                      ..            ..  "
      ]
     },
     "execution_count": 44,
     "metadata": {},
     "output_type": "execute_result"
    }
   ],
   "source": [
    "df[df.Country.str.contains(r\"\\w*[\\u00C0-\\u01DA']\\w*\")]"
   ]
  },
  {
   "cell_type": "code",
   "execution_count": 45,
   "id": "b6342d0f-3260-4022-b195-231b44a62b2b",
   "metadata": {},
   "outputs": [
    {
     "name": "stdout",
     "output_type": "stream",
     "text": [
      "Requirement already satisfied: unidecode in c:\\users\\patricia\\anaconda3\\envs\\version\\lib\\site-packages (1.3.8)Note: you may need to restart the kernel to use updated packages.\n",
      "\n"
     ]
    }
   ],
   "source": [
    "pip install unidecode"
   ]
  },
  {
   "cell_type": "code",
   "execution_count": 46,
   "id": "634dfec3-c0c6-4713-a11a-1020f4c09483",
   "metadata": {},
   "outputs": [],
   "source": [
    "from unidecode import unidecode\n",
    "\n",
    "df['Country']=df.Country.apply(unidecode)"
   ]
  },
  {
   "cell_type": "code",
   "execution_count": 47,
   "id": "279304cc-4ffc-4d6b-853b-9e7df58d7657",
   "metadata": {},
   "outputs": [
    {
     "name": "stdout",
     "output_type": "stream",
     "text": [
      "<class 'pandas.core.frame.DataFrame'>\n",
      "Index: 195 entries, 7 to 205\n",
      "Data columns (total 9 columns):\n",
      " #   Column                                               Non-Null Count  Dtype \n",
      "---  ------                                               --------------  ----- \n",
      " 0   HDI_rank                                             191 non-null    object\n",
      " 1   Country                                              195 non-null    object\n",
      " 2   Human_Development_Index_HDI_Value_2021               195 non-null    object\n",
      " 3   Life_expectancy_at_birth_years_2021                  195 non-null    object\n",
      " 4   Expected_years_of_schooling_years_2021               195 non-null    object\n",
      " 5   Mean_years_of_schooling_years_2021                   195 non-null    object\n",
      " 6   Gross_national_income_GNI_per_capita_2017_PPP__2021  195 non-null    object\n",
      " 7   GNI_per_capita_rank_minus_HDI_rank_2021              195 non-null    object\n",
      " 8   HDI_rank_2020                                        195 non-null    object\n",
      "dtypes: object(9)\n",
      "memory usage: 15.2+ KB\n"
     ]
    }
   ],
   "source": [
    "# Formateo Numeros:\n",
    "df.info() # no hay numeros reconocidos "
   ]
  },
  {
   "cell_type": "code",
   "execution_count": 48,
   "id": "21ef879a-95e7-4296-afa0-b0513cc05509",
   "metadata": {},
   "outputs": [],
   "source": [
    "for col in numericCols:\n",
    "    df[col] = pd.to_numeric(df[col], errors='coerce')"
   ]
  },
  {
   "cell_type": "code",
   "execution_count": 49,
   "id": "63a800a6-2197-469c-8011-63b0bd065fe0",
   "metadata": {},
   "outputs": [
    {
     "data": {
      "text/plain": [
       "HDI_rank                                                object\n",
       "Country                                                 object\n",
       "Human_Development_Index_HDI_Value_2021                 float64\n",
       "Life_expectancy_at_birth_years_2021                    float64\n",
       "Expected_years_of_schooling_years_2021                 float64\n",
       "Mean_years_of_schooling_years_2021                     float64\n",
       "Gross_national_income_GNI_per_capita_2017_PPP__2021    float64\n",
       "GNI_per_capita_rank_minus_HDI_rank_2021                float64\n",
       "HDI_rank_2020                                          float64\n",
       "dtype: object"
      ]
     },
     "execution_count": 49,
     "metadata": {},
     "output_type": "execute_result"
    }
   ],
   "source": [
    "df.dtypes"
   ]
  }
 ],
 "metadata": {
  "kernelspec": {
   "display_name": "Python 3 (ipykernel)",
   "language": "python",
   "name": "python3"
  },
  "language_info": {
   "codemirror_mode": {
    "name": "ipython",
    "version": 3
   },
   "file_extension": ".py",
   "mimetype": "text/x-python",
   "name": "python",
   "nbconvert_exporter": "python",
   "pygments_lexer": "ipython3",
   "version": "3.11.8"
  }
 },
 "nbformat": 4,
 "nbformat_minor": 5
}
